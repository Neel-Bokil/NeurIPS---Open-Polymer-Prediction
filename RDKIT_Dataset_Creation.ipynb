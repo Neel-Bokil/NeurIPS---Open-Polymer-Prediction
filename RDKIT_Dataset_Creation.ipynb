{
  "nbformat": 4,
  "nbformat_minor": 0,
  "metadata": {
    "colab": {
      "provenance": []
    },
    "kernelspec": {
      "name": "python3",
      "display_name": "Python 3"
    },
    "language_info": {
      "name": "python"
    }
  },
  "cells": [
    {
      "cell_type": "code",
      "source": [
        "!pip install pandas numpy scikit-learn xgboost rdkit-pypi"
      ],
      "metadata": {
        "colab": {
          "base_uri": "https://localhost:8080/"
        },
        "id": "ubEBw0eueY9n",
        "outputId": "30437efe-f5eb-4623-cdf5-9ebbc06f44ae"
      },
      "execution_count": null,
      "outputs": [
        {
          "output_type": "stream",
          "name": "stdout",
          "text": [
            "Requirement already satisfied: pandas in /usr/local/lib/python3.11/dist-packages (2.2.2)\n",
            "Requirement already satisfied: numpy in /usr/local/lib/python3.11/dist-packages (2.0.2)\n",
            "Requirement already satisfied: scikit-learn in /usr/local/lib/python3.11/dist-packages (1.6.1)\n",
            "Requirement already satisfied: xgboost in /usr/local/lib/python3.11/dist-packages (2.1.4)\n",
            "Collecting rdkit-pypi\n",
            "  Downloading rdkit_pypi-2022.9.5-cp311-cp311-manylinux_2_17_x86_64.manylinux2014_x86_64.whl.metadata (3.9 kB)\n",
            "Requirement already satisfied: python-dateutil>=2.8.2 in /usr/local/lib/python3.11/dist-packages (from pandas) (2.9.0.post0)\n",
            "Requirement already satisfied: pytz>=2020.1 in /usr/local/lib/python3.11/dist-packages (from pandas) (2025.2)\n",
            "Requirement already satisfied: tzdata>=2022.7 in /usr/local/lib/python3.11/dist-packages (from pandas) (2025.2)\n",
            "Requirement already satisfied: scipy>=1.6.0 in /usr/local/lib/python3.11/dist-packages (from scikit-learn) (1.15.3)\n",
            "Requirement already satisfied: joblib>=1.2.0 in /usr/local/lib/python3.11/dist-packages (from scikit-learn) (1.5.1)\n",
            "Requirement already satisfied: threadpoolctl>=3.1.0 in /usr/local/lib/python3.11/dist-packages (from scikit-learn) (3.6.0)\n",
            "Requirement already satisfied: nvidia-nccl-cu12 in /usr/local/lib/python3.11/dist-packages (from xgboost) (2.21.5)\n",
            "Requirement already satisfied: Pillow in /usr/local/lib/python3.11/dist-packages (from rdkit-pypi) (11.2.1)\n",
            "Requirement already satisfied: six>=1.5 in /usr/local/lib/python3.11/dist-packages (from python-dateutil>=2.8.2->pandas) (1.17.0)\n",
            "Downloading rdkit_pypi-2022.9.5-cp311-cp311-manylinux_2_17_x86_64.manylinux2014_x86_64.whl (29.4 MB)\n",
            "\u001b[2K   \u001b[90m━━━━━━━━━━━━━━━━━━━━━━━━━━━━━━━━━━━━━━━━\u001b[0m \u001b[32m29.4/29.4 MB\u001b[0m \u001b[31m64.0 MB/s\u001b[0m eta \u001b[36m0:00:00\u001b[0m\n",
            "\u001b[?25hInstalling collected packages: rdkit-pypi\n",
            "Successfully installed rdkit-pypi-2022.9.5\n"
          ]
        }
      ]
    },
    {
      "cell_type": "code",
      "source": [
        "pip install \"numpy<2\""
      ],
      "metadata": {
        "colab": {
          "base_uri": "https://localhost:8080/",
          "height": 376
        },
        "id": "TbjFZ8TafEjC",
        "outputId": "341429d9-1d62-4bf6-a2ca-c9b60ada039b"
      },
      "execution_count": null,
      "outputs": [
        {
          "output_type": "stream",
          "name": "stdout",
          "text": [
            "Collecting numpy<2\n",
            "  Downloading numpy-1.26.4-cp311-cp311-manylinux_2_17_x86_64.manylinux2014_x86_64.whl.metadata (61 kB)\n",
            "\u001b[?25l     \u001b[90m━━━━━━━━━━━━━━━━━━━━━━━━━━━━━━━━━━━━━━━━\u001b[0m \u001b[32m0.0/61.0 kB\u001b[0m \u001b[31m?\u001b[0m eta \u001b[36m-:--:--\u001b[0m\r\u001b[2K     \u001b[90m━━━━━━━━━━━━━━━━━━━━━━━━━━━━━━━━━━━━━━━━\u001b[0m \u001b[32m61.0/61.0 kB\u001b[0m \u001b[31m4.4 MB/s\u001b[0m eta \u001b[36m0:00:00\u001b[0m\n",
            "\u001b[?25hDownloading numpy-1.26.4-cp311-cp311-manylinux_2_17_x86_64.manylinux2014_x86_64.whl (18.3 MB)\n",
            "\u001b[2K   \u001b[90m━━━━━━━━━━━━━━━━━━━━━━━━━━━━━━━━━━━━━━━━\u001b[0m \u001b[32m18.3/18.3 MB\u001b[0m \u001b[31m75.7 MB/s\u001b[0m eta \u001b[36m0:00:00\u001b[0m\n",
            "\u001b[?25hInstalling collected packages: numpy\n",
            "  Attempting uninstall: numpy\n",
            "    Found existing installation: numpy 2.0.2\n",
            "    Uninstalling numpy-2.0.2:\n",
            "      Successfully uninstalled numpy-2.0.2\n",
            "\u001b[31mERROR: pip's dependency resolver does not currently take into account all the packages that are installed. This behaviour is the source of the following dependency conflicts.\n",
            "opencv-python-headless 4.12.0.88 requires numpy<2.3.0,>=2; python_version >= \"3.9\", but you have numpy 1.26.4 which is incompatible.\n",
            "thinc 8.3.6 requires numpy<3.0.0,>=2.0.0, but you have numpy 1.26.4 which is incompatible.\u001b[0m\u001b[31m\n",
            "\u001b[0mSuccessfully installed numpy-1.26.4\n"
          ]
        },
        {
          "output_type": "display_data",
          "data": {
            "application/vnd.colab-display-data+json": {
              "pip_warning": {
                "packages": [
                  "numpy"
                ]
              },
              "id": "6492f0bfbd834ba2ab96b4b9db2f5c60"
            }
          },
          "metadata": {}
        }
      ]
    },
    {
      "cell_type": "markdown",
      "source": [
        "# For train"
      ],
      "metadata": {
        "id": "g602iBp-9-T5"
      }
    },
    {
      "cell_type": "code",
      "execution_count": null,
      "metadata": {
        "colab": {
          "base_uri": "https://localhost:8080/"
        },
        "id": "xAKOJeR5b4x6",
        "outputId": "79602172-8d23-4454-b866-c2ab8369e051"
      },
      "outputs": [
        {
          "output_type": "stream",
          "name": "stdout",
          "text": [
            "Number of molecules with completely missing features: 0\n",
            "✅ RDKit features saved to: rdkit_train_features.csv\n",
            "       id     MolWt  HeavyAtomCount    TPSA   MolLogP  NumRotatableBonds  \\\n",
            "0   87817   232.323              17   26.30   3.98170                  8   \n",
            "1  106919   598.919              45   24.06  12.35960                 16   \n",
            "2  388772  1003.207              73  122.27  14.21700                 15   \n",
            "3  519416   542.726              42   24.06  11.00768                  7   \n",
            "4  539187   965.154              70  182.28  11.84500                 34   \n",
            "\n",
            "   FractionCSP3  RingCount  NHOHCount  NOCount  MaxPartialCharge  \\\n",
            "0      0.533333          1          0        2               NaN   \n",
            "1      0.441860          5          2        2               NaN   \n",
            "2      0.145161         10          0        9               NaN   \n",
            "3      0.100000          6          2        2               NaN   \n",
            "4      0.518519          6          0       16               NaN   \n",
            "\n",
            "   MinPartialCharge   LabuteASA  \n",
            "0               NaN  103.990949  \n",
            "1               NaN  273.210536  \n",
            "2               NaN  426.096572  \n",
            "3               NaN  248.856424  \n",
            "4               NaN  411.049910  \n"
          ]
        }
      ],
      "source": [
        "import pandas as pd\n",
        "from rdkit import Chem\n",
        "from rdkit.Chem import Descriptors\n",
        "import numpy as np\n",
        "\n",
        "# ---------------------------------------------------\n",
        "# Adjust these filenames to YOUR environment:\n",
        "INPUT_CSV = \"/content/train.csv\"          # or your local path\n",
        "OUTPUT_CSV = \"rdkit_train_features.csv\"\n",
        "# ---------------------------------------------------\n",
        "\n",
        "# Load your input data\n",
        "df = pd.read_csv(INPUT_CSV)\n",
        "\n",
        "# Your list of descriptors\n",
        "RDKit_features = [\n",
        "    ('MolWt', Descriptors.MolWt),\n",
        "    ('HeavyAtomCount', Descriptors.HeavyAtomCount),\n",
        "    ('TPSA', Descriptors.TPSA),\n",
        "    ('MolLogP', Descriptors.MolLogP),\n",
        "    ('NumRotatableBonds', Descriptors.NumRotatableBonds),\n",
        "    ('FractionCSP3', Descriptors.FractionCSP3),\n",
        "    ('RingCount', Descriptors.RingCount),\n",
        "    ('NHOHCount', Descriptors.NHOHCount),\n",
        "    ('NOCount', Descriptors.NOCount),\n",
        "    ('MaxPartialCharge', Descriptors.MaxPartialCharge),\n",
        "    ('MinPartialCharge', Descriptors.MinPartialCharge),\n",
        "    ('LabuteASA', Descriptors.LabuteASA)\n",
        "]\n",
        "\n",
        "# Define feature calculation function\n",
        "def featurize_smiles(smiles):\n",
        "    try:\n",
        "        mol = Chem.MolFromSmiles(smiles)\n",
        "        if mol is None:\n",
        "            return [np.nan] * len(RDKit_features)\n",
        "        values = []\n",
        "        for (name, func) in RDKit_features:\n",
        "            try:\n",
        "                val = func(mol)\n",
        "            except Exception:\n",
        "                val = np.nan\n",
        "            values.append(val)\n",
        "        return values\n",
        "    except Exception as e:\n",
        "        print(f\"Error processing SMILES: {smiles}\")\n",
        "        return [np.nan] * len(RDKit_features)\n",
        "\n",
        "# Apply featurization\n",
        "feature_matrix = df[\"SMILES\"].apply(featurize_smiles)\n",
        "feature_df = pd.DataFrame(\n",
        "    feature_matrix.tolist(),\n",
        "    columns=[f[0] for f in RDKit_features]\n",
        ")\n",
        "\n",
        "# Add ID for merging later in Kaggle\n",
        "feature_df.insert(0, \"id\", df[\"id\"])\n",
        "\n",
        "# Optionally, print how many molecules failed:\n",
        "n_failed = feature_df.isna().all(axis=1).sum()\n",
        "print(f\"Number of molecules with completely missing features: {n_failed}\")\n",
        "\n",
        "# Save to CSV\n",
        "feature_df.to_csv(OUTPUT_CSV, index=False)\n",
        "print(\"✅ RDKit features saved to:\", OUTPUT_CSV)\n",
        "print(feature_df.head())\n"
      ]
    },
    {
      "cell_type": "code",
      "source": [
        "rdkit_df = pd.read_csv(\"rdkit_train_features.csv\")\n",
        "print(rdkit_df.head())\n",
        "print(rdkit_df.isna().sum())\n",
        "print(len(rdkit_df))"
      ],
      "metadata": {
        "colab": {
          "base_uri": "https://localhost:8080/"
        },
        "id": "XoBMfFTP7sK_",
        "outputId": "145e41cf-d9e3-4802-ef41-6a09567dc729"
      },
      "execution_count": null,
      "outputs": [
        {
          "output_type": "stream",
          "name": "stdout",
          "text": [
            "       id     MolWt  HeavyAtomCount    TPSA   MolLogP  NumRotatableBonds  \\\n",
            "0   87817   232.323              17   26.30   3.98170                  8   \n",
            "1  106919   598.919              45   24.06  12.35960                 16   \n",
            "2  388772  1003.207              73  122.27  14.21700                 15   \n",
            "3  519416   542.726              42   24.06  11.00768                  7   \n",
            "4  539187   965.154              70  182.28  11.84500                 34   \n",
            "\n",
            "   FractionCSP3  RingCount  NHOHCount  NOCount  MaxPartialCharge  \\\n",
            "0      0.533333          1          0        2               NaN   \n",
            "1      0.441860          5          2        2               NaN   \n",
            "2      0.145161         10          0        9               NaN   \n",
            "3      0.100000          6          2        2               NaN   \n",
            "4      0.518519          6          0       16               NaN   \n",
            "\n",
            "   MinPartialCharge   LabuteASA  \n",
            "0               NaN  103.990949  \n",
            "1               NaN  273.210536  \n",
            "2               NaN  426.096572  \n",
            "3               NaN  248.856424  \n",
            "4               NaN  411.049910  \n",
            "id                      0\n",
            "MolWt                   0\n",
            "HeavyAtomCount          0\n",
            "TPSA                    0\n",
            "MolLogP                 0\n",
            "NumRotatableBonds       0\n",
            "FractionCSP3            0\n",
            "RingCount               0\n",
            "NHOHCount               0\n",
            "NOCount                 0\n",
            "MaxPartialCharge     7617\n",
            "MinPartialCharge     7617\n",
            "LabuteASA               0\n",
            "dtype: int64\n",
            "7973\n"
          ]
        }
      ]
    },
    {
      "cell_type": "code",
      "source": [
        "import pandas as pd\n",
        "\n",
        "# Load your previously saved RDKit CSV\n",
        "rdkit_train_df = pd.read_csv(\"rdkit_train_features.csv\")\n",
        "\n",
        "print(\"Original shape:\", rdkit_train_df.shape)"
      ],
      "metadata": {
        "colab": {
          "base_uri": "https://localhost:8080/"
        },
        "id": "5ixytuWE96Kc",
        "outputId": "a3cb50e8-1bd7-4c00-adca-a386f00e4185"
      },
      "execution_count": null,
      "outputs": [
        {
          "output_type": "stream",
          "name": "stdout",
          "text": [
            "Original shape: (7973, 13)\n"
          ]
        }
      ]
    },
    {
      "cell_type": "code",
      "source": [
        "# Drop the partial charge columns that contain NaNs almost everywhere\n",
        "columns_to_drop = [\"MaxPartialCharge\", \"MinPartialCharge\"]\n",
        "\n",
        "# Keep only columns we want\n",
        "rdkit_train_df_clean = rdkit_train_df.drop(columns=columns_to_drop)\n",
        "\n",
        "print(\"New shape after dropping columns:\", rdkit_train_df_clean.shape)"
      ],
      "metadata": {
        "colab": {
          "base_uri": "https://localhost:8080/"
        },
        "id": "sSaPvBps-I3L",
        "outputId": "ba978d3a-1fb6-4c6f-f62f-db6f358a5c84"
      },
      "execution_count": null,
      "outputs": [
        {
          "output_type": "stream",
          "name": "stdout",
          "text": [
            "New shape after dropping columns: (7973, 11)\n"
          ]
        }
      ]
    },
    {
      "cell_type": "code",
      "source": [
        "# Check for any other NaNs\n",
        "print(rdkit_train_df_clean.isna().sum())"
      ],
      "metadata": {
        "colab": {
          "base_uri": "https://localhost:8080/"
        },
        "id": "QN8zn_9v-Q1Z",
        "outputId": "594fce88-8d37-4cfe-eb5e-20526f6753fa"
      },
      "execution_count": null,
      "outputs": [
        {
          "output_type": "stream",
          "name": "stdout",
          "text": [
            "id                   0\n",
            "MolWt                0\n",
            "HeavyAtomCount       0\n",
            "TPSA                 0\n",
            "MolLogP              0\n",
            "NumRotatableBonds    0\n",
            "FractionCSP3         0\n",
            "RingCount            0\n",
            "NHOHCount            0\n",
            "NOCount              0\n",
            "LabuteASA            0\n",
            "dtype: int64\n"
          ]
        }
      ]
    },
    {
      "cell_type": "code",
      "source": [
        "# Save cleaned file\n",
        "rdkit_train_df_clean.to_csv(\"rdkit_train_features_clean.csv\", index=False)\n",
        "\n",
        "print(\"✅ Clean RDKit training features saved as rdkit_train_features_clean.csv\")\n",
        "print(rdkit_train_df_clean.head())\n"
      ],
      "metadata": {
        "colab": {
          "base_uri": "https://localhost:8080/"
        },
        "id": "j1AL5AIs96Hj",
        "outputId": "5c379537-e54c-46a9-fa1b-7090a65c69fa"
      },
      "execution_count": null,
      "outputs": [
        {
          "output_type": "stream",
          "name": "stdout",
          "text": [
            "✅ Clean RDKit training features saved as rdkit_train_features_clean.csv\n",
            "       id     MolWt  HeavyAtomCount    TPSA   MolLogP  NumRotatableBonds  \\\n",
            "0   87817   232.323              17   26.30   3.98170                  8   \n",
            "1  106919   598.919              45   24.06  12.35960                 16   \n",
            "2  388772  1003.207              73  122.27  14.21700                 15   \n",
            "3  519416   542.726              42   24.06  11.00768                  7   \n",
            "4  539187   965.154              70  182.28  11.84500                 34   \n",
            "\n",
            "   FractionCSP3  RingCount  NHOHCount  NOCount   LabuteASA  \n",
            "0      0.533333          1          0        2  103.990949  \n",
            "1      0.441860          5          2        2  273.210536  \n",
            "2      0.145161         10          0        9  426.096572  \n",
            "3      0.100000          6          2        2  248.856424  \n",
            "4      0.518519          6          0       16  411.049910  \n"
          ]
        }
      ]
    },
    {
      "cell_type": "markdown",
      "source": [
        "# For test"
      ],
      "metadata": {
        "id": "wtdTuL-p97Qw"
      }
    },
    {
      "cell_type": "code",
      "source": [
        "import pandas as pd\n",
        "from rdkit import Chem\n",
        "from rdkit.Chem import Descriptors\n",
        "import numpy as np\n",
        "\n",
        "# ---------------------------------------------------\n",
        "# Adjust these filenames to YOUR environment:\n",
        "INPUT_CSV = \"/content/test.csv\"          # or your local path\n",
        "OUTPUT_CSV = \"rdkit_test_features.csv\"\n",
        "# ---------------------------------------------------\n",
        "\n",
        "# Load your input data\n",
        "df = pd.read_csv(INPUT_CSV)\n",
        "\n",
        "# Your list of descriptors\n",
        "RDKit_features = [\n",
        "    ('MolWt', Descriptors.MolWt),\n",
        "    ('HeavyAtomCount', Descriptors.HeavyAtomCount),\n",
        "    ('TPSA', Descriptors.TPSA),\n",
        "    ('MolLogP', Descriptors.MolLogP),\n",
        "    ('NumRotatableBonds', Descriptors.NumRotatableBonds),\n",
        "    ('FractionCSP3', Descriptors.FractionCSP3),\n",
        "    ('RingCount', Descriptors.RingCount),\n",
        "    ('NHOHCount', Descriptors.NHOHCount),\n",
        "    ('NOCount', Descriptors.NOCount),\n",
        "    ('MaxPartialCharge', Descriptors.MaxPartialCharge),\n",
        "    ('MinPartialCharge', Descriptors.MinPartialCharge),\n",
        "    ('LabuteASA', Descriptors.LabuteASA)\n",
        "]\n",
        "\n",
        "# Define feature calculation function\n",
        "def featurize_smiles(smiles):\n",
        "    try:\n",
        "        mol = Chem.MolFromSmiles(smiles)\n",
        "        if mol is None:\n",
        "            return [np.nan] * len(RDKit_features)\n",
        "        values = []\n",
        "        for (name, func) in RDKit_features:\n",
        "            try:\n",
        "                val = func(mol)\n",
        "            except Exception:\n",
        "                val = np.nan\n",
        "            values.append(val)\n",
        "        return values\n",
        "    except Exception as e:\n",
        "        print(f\"Error processing SMILES: {smiles}\")\n",
        "        return [np.nan] * len(RDKit_features)\n",
        "\n",
        "# Apply featurization\n",
        "feature_matrix = df[\"SMILES\"].apply(featurize_smiles)\n",
        "feature_df = pd.DataFrame(\n",
        "    feature_matrix.tolist(),\n",
        "    columns=[f[0] for f in RDKit_features]\n",
        ")\n",
        "\n",
        "# Add ID for merging later in Kaggle\n",
        "feature_df.insert(0, \"id\", df[\"id\"])\n",
        "\n",
        "# Optionally, print how many molecules failed:\n",
        "n_failed = feature_df.isna().all(axis=1).sum()\n",
        "print(f\"Number of molecules with completely missing features: {n_failed}\")\n",
        "\n",
        "# Save to CSV\n",
        "feature_df.to_csv(OUTPUT_CSV, index=False)\n",
        "print(\"✅ RDKit features saved to:\", OUTPUT_CSV)\n",
        "print(feature_df.head())\n"
      ],
      "metadata": {
        "colab": {
          "base_uri": "https://localhost:8080/"
        },
        "id": "mMQwai4cenJe",
        "outputId": "647d5554-14a0-4910-dae9-6dfbd7a0e114"
      },
      "execution_count": null,
      "outputs": [
        {
          "output_type": "stream",
          "name": "stdout",
          "text": [
            "Number of molecules with completely missing features: 0\n",
            "✅ RDKit features saved to: rdkit_test_features.csv\n",
            "           id    MolWt  HeavyAtomCount   TPSA  MolLogP  NumRotatableBonds  \\\n",
            "0  1109053969  540.463              39  43.18   7.3603                  8   \n",
            "1  1422188626  510.589              39  52.60   7.2845                  9   \n",
            "2  2032016830  586.644              44  93.22   6.1875                 13   \n",
            "\n",
            "   FractionCSP3  RingCount  NHOHCount  NOCount  MaxPartialCharge  \\\n",
            "0      0.103448          4          0        4               NaN   \n",
            "1      0.085714          5          0        4               NaN   \n",
            "2      0.222222          6          0        8               NaN   \n",
            "\n",
            "   MinPartialCharge   LabuteASA  \n",
            "0               NaN  219.089169  \n",
            "1               NaN  227.715314  \n",
            "2               NaN  255.153204  \n"
          ]
        }
      ]
    },
    {
      "cell_type": "code",
      "source": [
        "rdkit_df = pd.read_csv(\"rdkit_test_features.csv\")\n",
        "print(rdkit_df.head())\n",
        "print(rdkit_df.isna().sum())\n",
        "print(len(rdkit_df))"
      ],
      "metadata": {
        "colab": {
          "base_uri": "https://localhost:8080/"
        },
        "id": "eVJxr8Suir_K",
        "outputId": "d48194fc-3577-4995-f61d-fd5eecc3fc54"
      },
      "execution_count": null,
      "outputs": [
        {
          "output_type": "stream",
          "name": "stdout",
          "text": [
            "           id    MolWt  HeavyAtomCount   TPSA  MolLogP  NumRotatableBonds  \\\n",
            "0  1109053969  540.463              39  43.18   7.3603                  8   \n",
            "1  1422188626  510.589              39  52.60   7.2845                  9   \n",
            "2  2032016830  586.644              44  93.22   6.1875                 13   \n",
            "\n",
            "   FractionCSP3  RingCount  NHOHCount  NOCount  MaxPartialCharge  \\\n",
            "0      0.103448          4          0        4               NaN   \n",
            "1      0.085714          5          0        4               NaN   \n",
            "2      0.222222          6          0        8               NaN   \n",
            "\n",
            "   MinPartialCharge   LabuteASA  \n",
            "0               NaN  219.089169  \n",
            "1               NaN  227.715314  \n",
            "2               NaN  255.153204  \n",
            "id                   0\n",
            "MolWt                0\n",
            "HeavyAtomCount       0\n",
            "TPSA                 0\n",
            "MolLogP              0\n",
            "NumRotatableBonds    0\n",
            "FractionCSP3         0\n",
            "RingCount            0\n",
            "NHOHCount            0\n",
            "NOCount              0\n",
            "MaxPartialCharge     3\n",
            "MinPartialCharge     3\n",
            "LabuteASA            0\n",
            "dtype: int64\n",
            "3\n"
          ]
        }
      ]
    },
    {
      "cell_type": "code",
      "source": [
        "import pandas as pd\n",
        "\n",
        "# Load your previously saved RDKit CSV\n",
        "rdkit_train_df = pd.read_csv(\"rdkit_test_features.csv\")\n",
        "\n",
        "print(\"Original shape:\", rdkit_train_df.shape)"
      ],
      "metadata": {
        "colab": {
          "base_uri": "https://localhost:8080/"
        },
        "id": "FxSMOWt88GZJ",
        "outputId": "f93fc015-97ab-4985-a97a-ea9cd2b2ea4e"
      },
      "execution_count": null,
      "outputs": [
        {
          "output_type": "stream",
          "name": "stdout",
          "text": [
            "Original shape: (3, 13)\n"
          ]
        }
      ]
    },
    {
      "cell_type": "code",
      "source": [
        "# Drop the partial charge columns that contain NaNs almost everywhere\n",
        "columns_to_drop = [\"MaxPartialCharge\", \"MinPartialCharge\"]\n",
        "\n",
        "# Keep only columns we want\n",
        "rdkit_train_df_clean = rdkit_train_df.drop(columns=columns_to_drop)\n",
        "\n",
        "print(\"New shape after dropping columns:\", rdkit_train_df_clean.shape)"
      ],
      "metadata": {
        "colab": {
          "base_uri": "https://localhost:8080/"
        },
        "id": "bjRJokbi-one",
        "outputId": "9b31b9c8-7de7-4ee2-da89-dbe389d0d17a"
      },
      "execution_count": null,
      "outputs": [
        {
          "output_type": "stream",
          "name": "stdout",
          "text": [
            "New shape after dropping columns: (3, 11)\n"
          ]
        }
      ]
    },
    {
      "cell_type": "code",
      "source": [
        "# Check for any other NaNs\n",
        "print(rdkit_train_df_clean.isna().sum())"
      ],
      "metadata": {
        "colab": {
          "base_uri": "https://localhost:8080/"
        },
        "id": "QVGMg0Un-u-H",
        "outputId": "9e1fab41-1bb7-4a5e-f031-830cdf186c15"
      },
      "execution_count": null,
      "outputs": [
        {
          "output_type": "stream",
          "name": "stdout",
          "text": [
            "id                   0\n",
            "MolWt                0\n",
            "HeavyAtomCount       0\n",
            "TPSA                 0\n",
            "MolLogP              0\n",
            "NumRotatableBonds    0\n",
            "FractionCSP3         0\n",
            "RingCount            0\n",
            "NHOHCount            0\n",
            "NOCount              0\n",
            "LabuteASA            0\n",
            "dtype: int64\n"
          ]
        }
      ]
    },
    {
      "cell_type": "code",
      "source": [
        "# Save cleaned file\n",
        "rdkit_train_df_clean.to_csv(\"rdkit_test_features_clean.csv\", index=False)\n",
        "\n",
        "print(\"✅ Clean RDKit training features saved as rdkit_train_features_clean.csv\")\n",
        "print(rdkit_train_df_clean.head())\n"
      ],
      "metadata": {
        "colab": {
          "base_uri": "https://localhost:8080/"
        },
        "id": "I_aJW4hT-0TL",
        "outputId": "b6d52753-7cde-4fa4-95f6-291f2cc8fd23"
      },
      "execution_count": null,
      "outputs": [
        {
          "output_type": "stream",
          "name": "stdout",
          "text": [
            "✅ Clean RDKit training features saved as rdkit_train_features_clean.csv\n",
            "           id    MolWt  HeavyAtomCount   TPSA  MolLogP  NumRotatableBonds  \\\n",
            "0  1109053969  540.463              39  43.18   7.3603                  8   \n",
            "1  1422188626  510.589              39  52.60   7.2845                  9   \n",
            "2  2032016830  586.644              44  93.22   6.1875                 13   \n",
            "\n",
            "   FractionCSP3  RingCount  NHOHCount  NOCount   LabuteASA  \n",
            "0      0.103448          4          0        4  219.089169  \n",
            "1      0.085714          5          0        4  227.715314  \n",
            "2      0.222222          6          0        8  255.153204  \n"
          ]
        }
      ]
    },
    {
      "cell_type": "code",
      "source": [],
      "metadata": {
        "id": "kiwY1nhD-8wH"
      },
      "execution_count": null,
      "outputs": []
    }
  ]
}